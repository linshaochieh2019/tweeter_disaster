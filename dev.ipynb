{
  "nbformat": 4,
  "nbformat_minor": 0,
  "metadata": {
    "colab": {
      "provenance": []
    },
    "kernelspec": {
      "name": "python3",
      "display_name": "Python 3"
    },
    "language_info": {
      "name": "python"
    }
  },
  "cells": [
    {
      "cell_type": "code",
      "execution_count": 1,
      "metadata": {
        "colab": {
          "base_uri": "https://localhost:8080/"
        },
        "id": "psJDgDAqX1i9",
        "outputId": "d31548a5-06f7-4617-c7d7-bc0edea1eca5"
      },
      "outputs": [
        {
          "output_type": "stream",
          "name": "stdout",
          "text": [
            "Mounted at /content/drive\n"
          ]
        }
      ],
      "source": [
        "from google.colab import drive\n",
        "drive.mount('/content/drive')"
      ]
    },
    {
      "cell_type": "markdown",
      "source": [
        "# Dataset\n",
        "*   Number of train samples: 7613\n",
        "*   Number of test samples: 3263\n",
        "\n",
        "The task is binary class classificatoin, and our goal is to train a model that can read the tweets and distinguish real disasters from false.\n",
        "\n",
        "# EDA\n",
        "*   The labels are fairly balanced.\n",
        "*   Most of the tweets are between 20 to 30 words.\n",
        "*   There are stopwords in our samples, and the most common ones are: the, a, to ...etc.\n",
        "*   There are punctuation, emoji and URLs in our samples.\n",
        "\n",
        "# Preprocessing\n",
        "1.   I removed URLS, stopwords and puncuation from our samples.\n",
        "2.   I left emojis because they might be meaningful in certain ways.\n",
        "3.   I used GloVe 6B-50d for encoding our text data. \n",
        "\n",
        "# Model structure\n",
        "I trained three models for comparison:\n",
        "1. SimpleRNN\n",
        "2. LSTM\n",
        "3. GRU\n",
        "\n",
        "Each model has similiar structure: embedding layer, RNN layer and finally dense layer for classification.\n",
        "\n",
        "\n",
        "# Results\n",
        "LSTM and GRU had similar performance, and they outperformed the SimpleRNN model.\n",
        "Our models learned sufficiently after the first few epochs but encountered overfitting issues as the training continued. For the detailed informatoin, please check the graph below.\n",
        "\n",
        "# Discussions\n",
        "1. We can possibly avoid or alleviate the overfitting issues by adding more layers and parameters into the models.\n",
        "2. We can possibly avoid or alleviate the overfitting issues by adding dropouts, batch normalization or regulation layers.\n",
        "3. Pre-trained models specifically trained for medical images should have much beter results than the naive model in this notebook. Unfortunately, under the\n",
        "scope of this project, I did not investigate those possibilities.\n",
        "\n"
      ],
      "metadata": {
        "id": "hXvOD1NC6SsW"
      }
    },
    {
      "cell_type": "code",
      "source": [
        "import numpy as np\n",
        "import pandas as pd\n",
        "\n",
        "import os\n",
        "from collections import Counter\n",
        "import pickle\n",
        "\n",
        "import matplotlib.pyplot as plt\n",
        "import seaborn as sns\n",
        "\n",
        "#NLP\n",
        "import re\n",
        "import string\n",
        "import nltk\n",
        "from nltk.corpus import stopwords\n",
        "\n",
        "# Model artchitecture\n",
        "from tensorflow.keras.preprocessing.text import Tokenizer\n",
        "from tensorflow.keras.utils import pad_sequences\n",
        "from tensorflow.keras.models import Sequential\n",
        "from tensorflow.keras.layers import Embedding,SimpleRNN,LSTM,GRU,Dense,Flatten\n",
        "from tensorflow.keras.optimizers import Adam\n",
        "from tensorflow.keras.losses import BinaryCrossentropy\n",
        "\n",
        "# Training\n",
        "from sklearn.model_selection import train_test_split\n",
        "from tensorflow.keras.callbacks import EarlyStopping,ModelCheckpoint"
      ],
      "metadata": {
        "id": "oqaH7IjYYL5I"
      },
      "execution_count": 2,
      "outputs": []
    },
    {
      "cell_type": "code",
      "source": [
        "working_dir = '/content/drive/MyDrive/Colab Notebooks/tweeter_disaster'\n",
        "\n",
        "os.listdir(working_dir)"
      ],
      "metadata": {
        "colab": {
          "base_uri": "https://localhost:8080/"
        },
        "id": "RZEAPb5dX5zw",
        "outputId": "2a7157d7-a21d-4df4-9182-e5a36c87bcab"
      },
      "execution_count": 3,
      "outputs": [
        {
          "output_type": "execute_result",
          "data": {
            "text/plain": [
              "['data', 'checkpoint', 'dev.ipynb']"
            ]
          },
          "metadata": {},
          "execution_count": 3
        }
      ]
    },
    {
      "cell_type": "code",
      "source": [
        "# Loading data\n",
        "\n",
        "train = working_dir + '/data/train.csv'\n",
        "test = working_dir + '/data/test.csv'\n",
        "\n",
        "train = pd.read_csv(train)\n",
        "test = pd.read_csv(test)\n",
        "\n",
        "print(train.shape)\n",
        "print(test.shape)\n",
        "\n",
        "train.columns"
      ],
      "metadata": {
        "colab": {
          "base_uri": "https://localhost:8080/"
        },
        "id": "WC5BK6tjYT7u",
        "outputId": "95e6eb3e-1a10-4fde-ce2f-c27199be64bd"
      },
      "execution_count": 4,
      "outputs": [
        {
          "output_type": "stream",
          "name": "stdout",
          "text": [
            "(7613, 5)\n",
            "(3263, 4)\n"
          ]
        },
        {
          "output_type": "execute_result",
          "data": {
            "text/plain": [
              "Index(['id', 'keyword', 'location', 'text', 'target'], dtype='object')"
            ]
          },
          "metadata": {},
          "execution_count": 4
        }
      ]
    },
    {
      "cell_type": "markdown",
      "source": [
        "# EDA"
      ],
      "metadata": {
        "id": "Gn7biqey0mSh"
      }
    },
    {
      "cell_type": "code",
      "source": [
        "# Show class distribution \n",
        "data = train['target'].value_counts()\n",
        "sns.barplot(data.index, data)\n",
        "plt.title('Target distribution in the train dataset')\n",
        "plt.xlabel('target')\n",
        "plt.ylabel('counts')"
      ],
      "metadata": {
        "colab": {
          "base_uri": "https://localhost:8080/",
          "height": 366
        },
        "id": "v11Nmw-GYiwx",
        "outputId": "824645f4-3e98-4f47-bfbf-64c9d54ab33f"
      },
      "execution_count": 5,
      "outputs": [
        {
          "output_type": "stream",
          "name": "stderr",
          "text": [
            "/usr/local/lib/python3.8/dist-packages/seaborn/_decorators.py:36: FutureWarning: Pass the following variables as keyword args: x, y. From version 0.12, the only valid positional argument will be `data`, and passing other arguments without an explicit keyword will result in an error or misinterpretation.\n",
            "  warnings.warn(\n"
          ]
        },
        {
          "output_type": "execute_result",
          "data": {
            "text/plain": [
              "Text(0, 0.5, 'counts')"
            ]
          },
          "metadata": {},
          "execution_count": 5
        },
        {
          "output_type": "display_data",
          "data": {
            "text/plain": [
              "<Figure size 432x288 with 1 Axes>"
            ],
            "image/png": "[encoded data removed]"
          },
          "metadata": {
            "needs_background": "light"
          }
        }
      ]
    },
    {
      "cell_type": "code",
      "source": [
        "# Word count\n",
        "word_counts = train['text'].apply(lambda x: len(x.split(' ')))\n",
        "sns.distplot(word_counts)\n",
        "\n",
        "plt.title('Word counts of each sample in train dataset')\n",
        "plt.xlabel('# words')\n",
        "plt.ylabel('# samples')"
      ],
      "metadata": {
        "colab": {
          "base_uri": "https://localhost:8080/",
          "height": 366
        },
        "id": "xg8GS8kaYpA0",
        "outputId": "45a31e0c-f8c1-4e69-cf75-c3c5471781b5"
      },
      "execution_count": 6,
      "outputs": [
        {
          "output_type": "stream",
          "name": "stderr",
          "text": [
            "/usr/local/lib/python3.8/dist-packages/seaborn/distributions.py:2619: FutureWarning: `distplot` is a deprecated function and will be removed in a future version. Please adapt your code to use either `displot` (a figure-level function with similar flexibility) or `histplot` (an axes-level function for histograms).\n",
            "  warnings.warn(msg, FutureWarning)\n"
          ]
        },
        {
          "output_type": "execute_result",
          "data": {
            "text/plain": [
              "Text(0, 0.5, '# samples')"
            ]
          },
          "metadata": {},
          "execution_count": 6
        },
        {
          "output_type": "display_data",
          "data": {
            "text/plain": [
              "<Figure size 432x288 with 1 Axes>"
            ],
            "image/png": "[encoded data removed]"
          },
          "metadata": {
            "needs_background": "light"
          }
        }
      ]
    },
    {
      "cell_type": "code",
      "source": [
        "# Generate a giant list for all words in train dataset\n",
        "ls_text = train['text'].apply(lambda x: x.split(' '))\n",
        "\n",
        "concat_text = list()\n",
        "for i in range(len(ls_text)):\n",
        "  concat_text += ls_text[i]\n",
        "\n",
        "print('Number of words in all text in train dataset: ', len(concat_text))\n",
        "\n",
        "# Stopwords \n",
        "try: \n",
        "  stop_words = stopwords.words('english')\n",
        "except:\n",
        "  nltk.download('stopwords')\n",
        "  stop_words = stopwords.words('english')\n",
        "\n",
        "# filter stopwords from the Counter(concat_text)\n",
        "word_counts = Counter({k:v for k,v in Counter(concat_text).items() if k in stop_words}).most_common(10)\n",
        "ls_stpwords = [k for (k,v) in word_counts]\n",
        "ls_counts = [v for (k,v) in word_counts]\n",
        "\n",
        "sns.barplot(ls_stpwords, ls_counts)\n",
        "plt.title('Stopwords Counts')\n",
        "plt.xlabel(\"stopwords\")\n",
        "plt.ylabel('# words')"
      ],
      "metadata": {
        "colab": {
          "base_uri": "https://localhost:8080/",
          "height": 417
        },
        "id": "ehKC8dJhZNoZ",
        "outputId": "d5f5e20e-63e0-4c8c-f094-3fe1f91bf3a7"
      },
      "execution_count": 7,
      "outputs": [
        {
          "output_type": "stream",
          "name": "stdout",
          "text": [
            "Number of words in all text in train dataset:  113654\n"
          ]
        },
        {
          "output_type": "stream",
          "name": "stderr",
          "text": [
            "[nltk_data] Downloading package stopwords to /root/nltk_data...\n",
            "[nltk_data]   Unzipping corpora/stopwords.zip.\n",
            "/usr/local/lib/python3.8/dist-packages/seaborn/_decorators.py:36: FutureWarning: Pass the following variables as keyword args: x, y. From version 0.12, the only valid positional argument will be `data`, and passing other arguments without an explicit keyword will result in an error or misinterpretation.\n",
            "  warnings.warn(\n"
          ]
        },
        {
          "output_type": "execute_result",
          "data": {
            "text/plain": [
              "Text(0, 0.5, '# words')"
            ]
          },
          "metadata": {},
          "execution_count": 7
        },
        {
          "output_type": "display_data",
          "data": {
            "text/plain": [
              "<Figure size 432x288 with 1 Axes>"
            ],
            "image/png": "[encoded data removed]"
          },
          "metadata": {
            "needs_background": "light"
          }
        }
      ]
    },
    {
      "cell_type": "code",
      "source": [
        "# Punctuation\n",
        "word_counts = Counter({k:v for k,v in Counter(concat_text).items() if k in string.punctuation}).most_common(10)\n",
        "ls_stpwords = [k for (k,v) in word_counts]\n",
        "ls_counts = [v for (k,v) in word_counts]\n",
        "\n",
        "sns.barplot(ls_stpwords, ls_counts)\n",
        "plt.title('Punctuatoin')\n",
        "plt.ylabel('# appearance')"
      ],
      "metadata": {
        "colab": {
          "base_uri": "https://localhost:8080/",
          "height": 353
        },
        "id": "sVaWwiO1zCUU",
        "outputId": "4949ae29-1e9a-498d-9337-e45d0a854eb9"
      },
      "execution_count": 8,
      "outputs": [
        {
          "output_type": "stream",
          "name": "stderr",
          "text": [
            "/usr/local/lib/python3.8/dist-packages/seaborn/_decorators.py:36: FutureWarning: Pass the following variables as keyword args: x, y. From version 0.12, the only valid positional argument will be `data`, and passing other arguments without an explicit keyword will result in an error or misinterpretation.\n",
            "  warnings.warn(\n"
          ]
        },
        {
          "output_type": "execute_result",
          "data": {
            "text/plain": [
              "Text(0, 0.5, '# appearance')"
            ]
          },
          "metadata": {},
          "execution_count": 8
        },
        {
          "output_type": "display_data",
          "data": {
            "text/plain": [
              "<Figure size 432x288 with 1 Axes>"
            ],
            "image/png": "[encoded data removed]"
          },
          "metadata": {
            "needs_background": "light"
          }
        }
      ]
    },
    {
      "cell_type": "markdown",
      "source": [
        "# Preprocessing\n",
        "\n",
        "\n",
        "1.   Remove URLs\n",
        "2.   Remove stopwords\n",
        "3.   Remove punctuation\n",
        "\n"
      ],
      "metadata": {
        "id": "u1Ri8bat0n8R"
      }
    },
    {
      "cell_type": "code",
      "source": [
        "def process_text(text):\n",
        "  # remove URLS\n",
        "  text = re.sub(r'https?:\\/\\/\\S+', '', text)\n",
        "\n",
        "  # remove stopwords and punctuation\n",
        "  text = text.split(' ')\n",
        "  text = [word for word in text if word not in stop_words and word not in string.punctuation]\n",
        "  return text\n"
      ],
      "metadata": {
        "id": "Tn1bTim2zn_y"
      },
      "execution_count": 9,
      "outputs": []
    },
    {
      "cell_type": "code",
      "source": [
        "train['text'] = train['text'].apply(lambda x: process_text(x))\n",
        "test['text'] = test['text'].apply(lambda x: process_text(x))"
      ],
      "metadata": {
        "id": "TzO6n4BE2GWE"
      },
      "execution_count": 10,
      "outputs": []
    },
    {
      "cell_type": "markdown",
      "source": [
        "# Encoding\n"
      ],
      "metadata": {
        "id": "CCKvHqMm3WAI"
      }
    },
    {
      "cell_type": "code",
      "source": [
        "# Loading word embeddings of GloVe\n",
        "embeddings_index = {}\n",
        "glove_path = working_dir + '/data/glove.6B.50d.txt'\n",
        "with open(glove_path, 'r', encoding='utf8') as f:\n",
        "  for eid,line in enumerate(f):\n",
        "    values = line.split()\n",
        "    word = values[0]\n",
        "    coefs = np.asarray(values[1:], dtype='float32')\n",
        "    embeddings_index[word] = coefs\n",
        "\n",
        "print('# words in the embedding dictionary: ', len(embeddings_index))"
      ],
      "metadata": {
        "colab": {
          "base_uri": "https://localhost:8080/"
        },
        "id": "p9S0l_nl3ZjJ",
        "outputId": "06e40d61-3f1f-4a9b-e501-54df67b97b31"
      },
      "execution_count": 11,
      "outputs": [
        {
          "output_type": "stream",
          "name": "stdout",
          "text": [
            "# words in the embedding dictionary:  400000\n"
          ]
        }
      ]
    },
    {
      "cell_type": "code",
      "source": [
        "# Generate tokenizer\n",
        "num_words = 10000 # fitting the most frequent 10k vocab words\n",
        "tokenizer = Tokenizer(num_words=num_words)\n",
        "tokenizer.fit_on_texts(train['text'])\n",
        "\n",
        "# Convert train texts to sequences\n",
        "inputs = tokenizer.texts_to_sequences(train['text']) #convert words to tokens, the max value of tokens is 9999\n",
        "\n",
        "# Padding\n",
        "maxlen = 30 #padding/truncating each sample so all samples are 30 tokens\n",
        "inputs = pad_sequences(inputs, maxlen=maxlen)"
      ],
      "metadata": {
        "id": "3kt0ENz74dW6"
      },
      "execution_count": 12,
      "outputs": []
    },
    {
      "cell_type": "code",
      "source": [
        "# train test split\n",
        "X_train, X_val, y_train, y_val = train_test_split(inputs, train['target'], test_size=0.1)\n",
        "for item in X_train, X_val, y_train, y_val:\n",
        "  print(item.shape)"
      ],
      "metadata": {
        "colab": {
          "base_uri": "https://localhost:8080/"
        },
        "id": "dM5zssRVBFM7",
        "outputId": "fae2f70b-8971-4405-e281-38cfba505f59"
      },
      "execution_count": 25,
      "outputs": [
        {
          "output_type": "stream",
          "name": "stdout",
          "text": [
            "(6851, 30)\n",
            "(762, 30)\n",
            "(6851,)\n",
            "(762,)\n"
          ]
        }
      ]
    },
    {
      "cell_type": "markdown",
      "source": [
        "# Model architecture"
      ],
      "metadata": {
        "id": "93V-mJ6-97IW"
      }
    },
    {
      "cell_type": "code",
      "source": [
        "# model 1: RNN\n",
        "rnn = Sequential()\n",
        "rnn.add(\n",
        "    Embedding(\n",
        "      input_dim=num_words,\n",
        "      output_dim=32,\n",
        "      input_length=maxlen,\n",
        "      )\n",
        "    )\n",
        "\n",
        "rnn.add(SimpleRNN(64))\n",
        "rnn.add(Dense(1, activation='sigmoid'))\n",
        "rnn.summary()\n",
        "\n",
        "# compiling\n",
        "optimizer = Adam()\n",
        "loss = BinaryCrossentropy()\n",
        "rnn.compile(optimizer=optimizer, loss=loss, metrics=['accuracy'])"
      ],
      "metadata": {
        "colab": {
          "base_uri": "https://localhost:8080/"
        },
        "id": "__gl3GsK9-Aj",
        "outputId": "2b6e551d-8621-40b2-f3fc-6cb2ea237a5a"
      },
      "execution_count": 14,
      "outputs": [
        {
          "output_type": "stream",
          "name": "stdout",
          "text": [
            "Model: \"sequential\"\n",
            "_________________________________________________________________\n",
            " Layer (type)                Output Shape              Param #   \n",
            "=================================================================\n",
            " embedding (Embedding)       (None, 30, 32)            320000    \n",
            "                                                                 \n",
            " simple_rnn (SimpleRNN)      (None, 64)                6208      \n",
            "                                                                 \n",
            " dense (Dense)               (None, 1)                 65        \n",
            "                                                                 \n",
            "=================================================================\n",
            "Total params: 326,273\n",
            "Trainable params: 326,273\n",
            "Non-trainable params: 0\n",
            "_________________________________________________________________\n"
          ]
        }
      ]
    },
    {
      "cell_type": "code",
      "source": [
        "# training \n",
        "earlystopping = EarlyStopping(patience=3)\n",
        "file_path = working_dir + '/checkpoint/'\n",
        "checkpointer = ModelCheckpoint(\n",
        "    file_path,\n",
        "    monitor=\"val_loss\",\n",
        "    save_best_only=True,\n",
        "    save_weights_only=True,\n",
        "    )\n",
        "\n",
        "rnn_history = rnn.fit(\n",
        "    X_train,\n",
        "    y_train,\n",
        "    validation_data=[X_val, y_val],\n",
        "    epochs=10,\n",
        "    callbacks=[earlystopping, checkpointer],\n",
        "    batch_size=32\n",
        ")"
      ],
      "metadata": {
        "colab": {
          "base_uri": "https://localhost:8080/"
        },
        "id": "-PDERVvQ-uJE",
        "outputId": "541e8c54-d11c-4e24-8d49-b7948c910c2f"
      },
      "execution_count": 15,
      "outputs": [
        {
          "output_type": "stream",
          "name": "stdout",
          "text": [
            "Epoch 1/10\n",
            "215/215 [==============================] - 14s 47ms/step - loss: 0.5919 - accuracy: 0.6830 - val_loss: 0.5004 - val_accuracy: 0.7782\n",
            "Epoch 2/10\n",
            "215/215 [==============================] - 8s 37ms/step - loss: 0.3049 - accuracy: 0.8807 - val_loss: 0.5482 - val_accuracy: 0.7546\n",
            "Epoch 3/10\n",
            "215/215 [==============================] - 8s 37ms/step - loss: 0.1455 - accuracy: 0.9536 - val_loss: 0.6576 - val_accuracy: 0.7507\n",
            "Epoch 4/10\n",
            "215/215 [==============================] - 9s 41ms/step - loss: 0.0980 - accuracy: 0.9698 - val_loss: 0.7625 - val_accuracy: 0.7008\n"
          ]
        }
      ]
    },
    {
      "cell_type": "code",
      "source": [
        "plt.figure(figsize=(9,3))\n",
        "plt.suptitle('Simple RNN')\n",
        "\n",
        "plt.subplot(1,2,1)\n",
        "plt.title('Loss')\n",
        "plt.plot(rnn_history.history['loss'], label='train')\n",
        "plt.plot(rnn_history.history['val_loss'], label='val')\n",
        "plt.legend()\n",
        "plt.xlabel('epoch')\n",
        "\n",
        "plt.subplot(1,2,2)\n",
        "plt.title('Accuracy')\n",
        "plt.plot(rnn_history.history['accuracy'], label='train')\n",
        "plt.plot(rnn_history.history['val_accuracy'], label='val')\n",
        "plt.legend()\n",
        "plt.xlabel('epoch')\n"
      ],
      "metadata": {
        "colab": {
          "base_uri": "https://localhost:8080/",
          "height": 264
        },
        "id": "3Jf7yHWLA2gF",
        "outputId": "bdb4a0f3-2c50-430e-87c4-233e7050fe3f"
      },
      "execution_count": 16,
      "outputs": [
        {
          "output_type": "execute_result",
          "data": {
            "text/plain": [
              "Text(0.5, 0, 'epoch')"
            ]
          },
          "metadata": {},
          "execution_count": 16
        },
        {
          "output_type": "display_data",
          "data": {
            "text/plain": [
              "<Figure size 648x216 with 2 Axes>"
            ],
            "image/png": "[encoded data removed]"
          },
          "metadata": {
            "needs_background": "light"
          }
        }
      ]
    },
    {
      "cell_type": "code",
      "source": [
        "# model 2: LSTM\n",
        "lstm = Sequential()\n",
        "lstm.add(\n",
        "    Embedding(\n",
        "      input_dim=num_words,\n",
        "      output_dim=32,\n",
        "      input_length=maxlen,\n",
        "      )\n",
        "    )\n",
        "\n",
        "lstm.add(LSTM(64, return_sequences=False, return_state=False))\n",
        "lstm.add(Dense(1, activation='sigmoid'))\n",
        "lstm.summary()\n",
        "\n",
        "# compiling\n",
        "optimizer = Adam()\n",
        "loss = BinaryCrossentropy()\n",
        "lstm.compile(optimizer=optimizer, loss=loss, metrics=['accuracy'])"
      ],
      "metadata": {
        "colab": {
          "base_uri": "https://localhost:8080/"
        },
        "id": "VnFYYnn-A4uL",
        "outputId": "ddfe5180-d889-4f3c-fa04-e4fb295b09cd"
      },
      "execution_count": 17,
      "outputs": [
        {
          "output_type": "stream",
          "name": "stdout",
          "text": [
            "Model: \"sequential_1\"\n",
            "_________________________________________________________________\n",
            " Layer (type)                Output Shape              Param #   \n",
            "=================================================================\n",
            " embedding_1 (Embedding)     (None, 30, 32)            320000    \n",
            "                                                                 \n",
            " lstm (LSTM)                 (None, 64)                24832     \n",
            "                                                                 \n",
            " dense_1 (Dense)             (None, 1)                 65        \n",
            "                                                                 \n",
            "=================================================================\n",
            "Total params: 344,897\n",
            "Trainable params: 344,897\n",
            "Non-trainable params: 0\n",
            "_________________________________________________________________\n"
          ]
        }
      ]
    },
    {
      "cell_type": "code",
      "source": [
        "# training \n",
        "earlystopping = EarlyStopping(patience=3)\n",
        "file_path = working_dir + '/checkpoint/'\n",
        "checkpointer = ModelCheckpoint(\n",
        "    file_path,\n",
        "    monitor=\"val_loss\",\n",
        "    save_best_only=True,\n",
        "    save_weights_only=True,\n",
        "    )\n",
        "\n",
        "lstm_history = lstm.fit(\n",
        "    X_train,\n",
        "    y_train,\n",
        "    validation_data=[X_val, y_val],\n",
        "    epochs=10,\n",
        "    callbacks=[earlystopping, checkpointer],\n",
        "    batch_size=32\n",
        ")"
      ],
      "metadata": {
        "colab": {
          "base_uri": "https://localhost:8080/"
        },
        "id": "B2ycI3bgEu2-",
        "outputId": "a77e3024-f948-4ba6-8b66-144f9e15853c"
      },
      "execution_count": 18,
      "outputs": [
        {
          "output_type": "stream",
          "name": "stdout",
          "text": [
            "Epoch 1/10\n",
            "215/215 [==============================] - 13s 42ms/step - loss: 0.5687 - accuracy: 0.6954 - val_loss: 0.4783 - val_accuracy: 0.7874\n",
            "Epoch 2/10\n",
            "215/215 [==============================] - 6s 29ms/step - loss: 0.3404 - accuracy: 0.8589 - val_loss: 0.4911 - val_accuracy: 0.7690\n",
            "Epoch 3/10\n",
            "215/215 [==============================] - 8s 39ms/step - loss: 0.2319 - accuracy: 0.9118 - val_loss: 0.6023 - val_accuracy: 0.7454\n",
            "Epoch 4/10\n",
            "215/215 [==============================] - 6s 30ms/step - loss: 0.1671 - accuracy: 0.9368 - val_loss: 0.7101 - val_accuracy: 0.7533\n"
          ]
        }
      ]
    },
    {
      "cell_type": "code",
      "source": [
        "plt.figure(figsize=(9,3))\n",
        "plt.suptitle('LSTM')\n",
        "\n",
        "plt.subplot(1,2,1)\n",
        "plt.title('Loss')\n",
        "plt.plot(lstm_history.history['loss'], label='train')\n",
        "plt.plot(lstm_history.history['val_loss'], label='val')\n",
        "plt.legend()\n",
        "plt.xlabel('epoch')\n",
        "\n",
        "plt.subplot(1,2,2)\n",
        "plt.title('Accuracy')\n",
        "plt.plot(lstm_history.history['accuracy'], label='train')\n",
        "plt.plot(lstm_history.history['val_accuracy'], label='val')\n",
        "plt.legend()\n",
        "plt.xlabel('epoch')\n"
      ],
      "metadata": {
        "colab": {
          "base_uri": "https://localhost:8080/",
          "height": 264
        },
        "id": "mWHiNPHOFkk0",
        "outputId": "bc442a49-5c1d-4050-abf1-05a3ea3907f0"
      },
      "execution_count": 19,
      "outputs": [
        {
          "output_type": "execute_result",
          "data": {
            "text/plain": [
              "Text(0.5, 0, 'epoch')"
            ]
          },
          "metadata": {},
          "execution_count": 19
        },
        {
          "output_type": "display_data",
          "data": {
            "text/plain": [
              "<Figure size 648x216 with 2 Axes>"
            ],
            "image/png": "[encoded data removed]"
          },
          "metadata": {
            "needs_background": "light"
          }
        }
      ]
    },
    {
      "cell_type": "code",
      "source": [
        "# model 3: GRU\n",
        "gru = Sequential()\n",
        "gru.add(\n",
        "    Embedding(\n",
        "      input_dim=num_words,\n",
        "      output_dim=32,\n",
        "      input_length=maxlen,\n",
        "      )\n",
        "    )\n",
        "\n",
        "gru.add(GRU(64, return_sequences=False, return_state=False))\n",
        "gru.add(Dense(1, activation='sigmoid'))\n",
        "gru.summary()\n",
        "\n",
        "# compiling\n",
        "optimizer = Adam()\n",
        "loss = BinaryCrossentropy()\n",
        "gru.compile(optimizer=optimizer, loss=loss, metrics=['accuracy'])"
      ],
      "metadata": {
        "colab": {
          "base_uri": "https://localhost:8080/"
        },
        "id": "WMdVAtQzHTYl",
        "outputId": "193679ad-67f1-46c8-e631-4617b76c896c"
      },
      "execution_count": 20,
      "outputs": [
        {
          "output_type": "stream",
          "name": "stdout",
          "text": [
            "Model: \"sequential_2\"\n",
            "_________________________________________________________________\n",
            " Layer (type)                Output Shape              Param #   \n",
            "=================================================================\n",
            " embedding_2 (Embedding)     (None, 30, 32)            320000    \n",
            "                                                                 \n",
            " gru (GRU)                   (None, 64)                18816     \n",
            "                                                                 \n",
            " dense_2 (Dense)             (None, 1)                 65        \n",
            "                                                                 \n",
            "=================================================================\n",
            "Total params: 338,881\n",
            "Trainable params: 338,881\n",
            "Non-trainable params: 0\n",
            "_________________________________________________________________\n"
          ]
        }
      ]
    },
    {
      "cell_type": "code",
      "source": [
        "# training \n",
        "earlystopping = EarlyStopping(patience=3)\n",
        "file_path = working_dir + '/checkpoint/'\n",
        "checkpointer = ModelCheckpoint(\n",
        "    file_path,\n",
        "    monitor=\"val_loss\",\n",
        "    save_best_only=True,\n",
        "    save_weights_only=True,\n",
        "    )\n",
        "\n",
        "gru_history = gru.fit(\n",
        "    X_train,\n",
        "    y_train,\n",
        "    validation_data=[X_val, y_val],\n",
        "    epochs=10,\n",
        "    callbacks=[earlystopping, checkpointer],\n",
        "    batch_size=32\n",
        ")"
      ],
      "metadata": {
        "colab": {
          "base_uri": "https://localhost:8080/"
        },
        "id": "7ThByDQjRc_m",
        "outputId": "4bce7029-0c31-4083-e860-54b88997e7e6"
      },
      "execution_count": 21,
      "outputs": [
        {
          "output_type": "stream",
          "name": "stdout",
          "text": [
            "Epoch 1/10\n",
            "215/215 [==============================] - 18s 41ms/step - loss: 0.5534 - accuracy: 0.7098 - val_loss: 0.4525 - val_accuracy: 0.8031\n",
            "Epoch 2/10\n",
            "215/215 [==============================] - 12s 54ms/step - loss: 0.3323 - accuracy: 0.8664 - val_loss: 0.4947 - val_accuracy: 0.7730\n",
            "Epoch 3/10\n",
            "215/215 [==============================] - 13s 58ms/step - loss: 0.2263 - accuracy: 0.9148 - val_loss: 0.5878 - val_accuracy: 0.7467\n",
            "Epoch 4/10\n",
            "215/215 [==============================] - 9s 41ms/step - loss: 0.1666 - accuracy: 0.9358 - val_loss: 0.6825 - val_accuracy: 0.7612\n"
          ]
        }
      ]
    },
    {
      "cell_type": "code",
      "source": [
        "plt.figure(figsize=(9,3))\n",
        "plt.suptitle('GRU')\n",
        "\n",
        "plt.subplot(1,2,1)\n",
        "plt.title('Loss')\n",
        "plt.plot(gru_history.history['loss'], label='train')\n",
        "plt.plot(gru_history.history['val_loss'], label='val')\n",
        "plt.legend()\n",
        "plt.xlabel('epoch')\n",
        "\n",
        "plt.subplot(1,2,2)\n",
        "plt.title('Accuracy')\n",
        "plt.plot(gru_history.history['accuracy'], label='train')\n",
        "plt.plot(gru_history.history['val_accuracy'], label='val')\n",
        "plt.legend()\n",
        "plt.xlabel('epoch')\n"
      ],
      "metadata": {
        "colab": {
          "base_uri": "https://localhost:8080/",
          "height": 264
        },
        "id": "kPLTZuZ_Riud",
        "outputId": "aa675490-0aaa-416e-8c1f-a98c0949ba9a"
      },
      "execution_count": 22,
      "outputs": [
        {
          "output_type": "execute_result",
          "data": {
            "text/plain": [
              "Text(0.5, 0, 'epoch')"
            ]
          },
          "metadata": {},
          "execution_count": 22
        },
        {
          "output_type": "display_data",
          "data": {
            "text/plain": [
              "<Figure size 648x216 with 2 Axes>"
            ],
            "image/png": "[encoded data removed]"
          },
          "metadata": {
            "needs_background": "light"
          }
        }
      ]
    },
    {
      "cell_type": "code",
      "source": [],
      "metadata": {
        "id": "p4HqedC7Ro3R"
      },
      "execution_count": 22,
      "outputs": []
    },
    {
      "cell_type": "code",
      "source": [
        "# Compare three models\n",
        "\n",
        "plt.figure(figsize=(9,3))\n",
        "plt.suptitle('SimpleRNN, LSTM and GRU')\n",
        "\n",
        "plt.subplot(1,2,1)\n",
        "plt.title('Val Loss')\n",
        "plt.plot(rnn_history.history['val_loss'], label='RNN', color='green')\n",
        "plt.plot(lstm_history.history['val_loss'], label='LSTM', color='brown')\n",
        "plt.plot(gru_history.history['val_loss'], label='GRU', color='gray')\n",
        "plt.legend()\n",
        "plt.xlabel('epoch')\n",
        "\n",
        "plt.subplot(1,2,2)\n",
        "plt.title('Val Accuracy')\n",
        "plt.plot(rnn_history.history['val_accuracy'], label='RNN', color='green')\n",
        "plt.plot(lstm_history.history['val_accuracy'], label='LSTM', color='brown')\n",
        "plt.plot(gru_history.history['val_accuracy'], label='GRU', color='gray')\n",
        "plt.legend()\n",
        "plt.xlabel('epoch')\n"
      ],
      "metadata": {
        "colab": {
          "base_uri": "https://localhost:8080/",
          "height": 264
        },
        "id": "_o1wVd9_HAaT",
        "outputId": "51885419-6f85-4e32-bcc7-233762737965"
      },
      "execution_count": 23,
      "outputs": [
        {
          "output_type": "execute_result",
          "data": {
            "text/plain": [
              "Text(0.5, 0, 'epoch')"
            ]
          },
          "metadata": {},
          "execution_count": 23
        },
        {
          "output_type": "display_data",
          "data": {
            "text/plain": [
              "<Figure size 648x216 with 2 Axes>"
            ],
            "image/png": "[encoded data removed]"
          },
          "metadata": {
            "needs_background": "light"
          }
        }
      ]
    },
    {
      "cell_type": "code",
      "source": [],
      "metadata": {
        "id": "yfU5BFSXR1rt"
      },
      "execution_count": 23,
      "outputs": []
    }
  ]
}